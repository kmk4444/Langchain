{
  "nbformat": 4,
  "nbformat_minor": 0,
  "metadata": {
    "colab": {
      "provenance": [],
      "authorship_tag": "ABX9TyOJdsK1LNEZ/CEYyC2arV2f",
      "include_colab_link": true
    },
    "kernelspec": {
      "name": "python3",
      "display_name": "Python 3"
    },
    "language_info": {
      "name": "python"
    }
  },
  "cells": [
    {
      "cell_type": "markdown",
      "metadata": {
        "id": "view-in-github",
        "colab_type": "text"
      },
      "source": [
        "<a href=\"https://colab.research.google.com/github/kmk4444/Langchain/blob/main/ModelIO.ipynb\" target=\"_parent\"><img src=\"https://colab.research.google.com/assets/colab-badge.svg\" alt=\"Open In Colab\"/></a>"
      ]
    },
    {
      "cell_type": "markdown",
      "source": [
        "- Langchain consists of Model I\\O, Retrieval, Agents, Chains and Extra.\n",
        "There are different packages which are LangChain, LangChain Core, LangChain Community and LangChain Experimental.\n",
        "- We will use langchain package which has LangChain Core and LangChain Experimental.\n",
        "\n",
        "Learning LangChain has five steps.\n",
        "1. Accessing Models(OpenAI, Google AI etc.)\n",
        "2. Porcessing chains(create_stuff_documents_chain and create_openai_fn_runnable)\n",
        "3. Loaders & Partitioners (WebBaseLoader, CharacterSplitter, PyPDFLoader, RecursiveCharacterSplitter, UnstructuredExcelLoader and SemanticSplitter)\n",
        "4. RAG (RAG with URL and RAG with PDF)\n",
        "5. Different Embedding Models(cohere and HuggingFace)"
      ],
      "metadata": {
        "id": "cu91SnhQZJpM"
      }
    },
    {
      "cell_type": "markdown",
      "source": [
        "**requirements.txt**\n",
        "-  langchain-openai or other packages depends on openai and other chatbot sdk, that's why we install these packages.(openai,anthropic and cohere)"
      ],
      "metadata": {
        "id": "7_6qBaavdsar"
      }
    },
    {
      "cell_type": "code",
      "source": [
        "!touch requirements.txt\n",
        "!echo langchain >> requirements.txt\n",
        "!echo langchain-openai >> requirements.txt\n",
        "!echo langchain-google-genai >> requirements.txt\n",
        "!echo langchain_experimental >> requirements.txt\n",
        "!echo openai >> requirements.txt\n",
        "!echo anthropic >> requirements.txt\n",
        "!echo cohere >> requirements.txt\n",
        "!echo streamlit >> requirements.txt\n",
        "!echo python-dotenv >> requirements.txt\n",
        "!echo beautifulsoup4 >> requirements.txt\n",
        "!echo faiss-cpu >> requirements.txt\n",
        "!echo pypdf >> requirements.txt\n",
        "!echo unstructured >> requirements.txt\n",
        "!echo networkx >> requirements.txt\n",
        "!echo openpyxl >> requirements.txt\n",
        "!echo rapidocr-onnxruntime >> requirements.txt"
      ],
      "metadata": {
        "id": "ORcjp0k1c0_d"
      },
      "execution_count": 1,
      "outputs": []
    },
    {
      "cell_type": "markdown",
      "source": [
        "**Terminal/bash command**"
      ],
      "metadata": {
        "id": "5z4m-7PodpPK"
      }
    },
    {
      "cell_type": "code",
      "source": [
        "pip install -r requirements.txt"
      ],
      "metadata": {
        "id": "EdpBFQlpdmjz"
      },
      "execution_count": null,
      "outputs": []
    },
    {
      "cell_type": "markdown",
      "source": [
        "**1. Accessing Models**\n",
        "- We apply seperation of concerns so there are different python files for each problembs."
      ],
      "metadata": {
        "id": "Vf_CdSXKaWSx"
      }
    },
    {
      "cell_type": "code",
      "execution_count": 18,
      "metadata": {
        "id": "mAa0ueFqXLxi",
        "outputId": "f4e7b677-2d36-4dcd-9458-19cd78e1c97b",
        "colab": {
          "base_uri": "https://localhost:8080/"
        }
      },
      "outputs": [
        {
          "output_type": "stream",
          "name": "stdout",
          "text": [
            "Overwriting modelhelper.py\n"
          ]
        }
      ],
      "source": [
        "%%writefile modelhelper.py\n",
        "#We reach language models.\n",
        "import os\n",
        "from dotenv import load_dotenv\n",
        "\n",
        "load_dotenv()\n",
        "\n",
        "#my_key_openai = os.getenv(\"openai_apikey\")\n",
        "my_key_openai=\"----\" # we reach openai api key\n",
        "\n",
        "from langchain_openai import ChatOpenAI # we import ChatOpenAI package from langchain_openai\n",
        "\n",
        "#Thanks to langchain, there is a standardization for different methods.\n",
        "def ask_gpt(prompt,temperature,max_tokens):\n",
        "  # we create a llm object.\n",
        "  llm = ChatOpenAI(\n",
        "      api_key=my_key_openai,\n",
        "      temperature=temperature,\n",
        "      max_tokens=max_tokens,\n",
        "      model=\"gpt-4-1106-preview\"\n",
        "  )\n",
        "  AI_Response = llm.invoke(prompt) # llm object has invoke method thanks to ChatOpenAI. We send out prompt to OpenAI.\n",
        "  return AI_Response.content\n",
        "\n",
        "#######################################################################\n",
        "\n",
        "#my_key_google = os.getenv(\"google_apikey\")\n",
        "my_key_google=\"----\" # we reach google api key\n",
        "\n",
        "from langchain_google_genai import ChatGoogleGenerativeAI # we import ChatOpenAI package from langchain_openai\n",
        "\n",
        "#Thanks to langchain, there is a standardization for different methods.\n",
        "# We didn't use max_tokens because sometimes there will be an error.\n",
        "def ask_gemini(prompt,temperature):\n",
        "  # we create a llm object.\n",
        "  llm = ChatGoogleGenerativeAI(\n",
        "      google_api_key=my_key_google,\n",
        "      temperature=temperature,\n",
        "      model=\"gemini-pro\"\n",
        "  )\n",
        "  AI_Response = llm.invoke(prompt) # llm object has invoke method thanks to langchain.\n",
        "  return AI_Response.content\n",
        "\n",
        "########################################################################\n",
        "#my_key_anthropic = os.getenv(\"anthropic_apikey\")\n",
        "my_key_anthropic=\"----\" # we reach openai api key\n",
        "\n",
        "#there is no anthropic library, we reach anthropic from langchain_community\n",
        "from langchain_community.chat_models import ChatAnthropic # we import ChatOpenAI package from langchain_openai\n",
        "\n",
        "#Thanks to langchain, there is a standardization for different methods.\n",
        "def ask_claude(prompt,temperature,max_tokens):\n",
        "  # we create a llm object.\n",
        "  llm = ChatAnthropic(\n",
        "      anthropic_api_key=my_key_anthropic,\n",
        "      temperature=temperature,\n",
        "      max_tokens=max_tokens,\n",
        "      model_name=\"claude-2.1\"\n",
        "  )\n",
        "  AI_Response = llm.invoke(prompt) # llm object has invoke method thanks to langchain.\n",
        "  return AI_Response.content\n",
        "\n",
        "###########################################################################\n",
        "#my_key_cohere = os.getenv(\"cohere_apikey\")\n",
        "my_key_cohere=\"----\" # we reach openai api key\n",
        "\n",
        "#there is no anthropic library, we reach anthropic from langchain_community\n",
        "from langchain_community.chat_models import ChatCohere # we import ChatOpenAI package from langchain_openai\n",
        "\n",
        "#Thanks to langchain, there is a standardization for different methods.\n",
        "def ask_command(prompt,temperature,max_tokens):\n",
        "  # we create a llm object.\n",
        "  llm = ChatCohere(\n",
        "      cohere_api_key=my_key_cohere,\n",
        "      temperature=temperature,\n",
        "      max_tokens=max_tokens,\n",
        "      model=\"command\"\n",
        "  )\n",
        "  AI_Response = llm.invoke(prompt) # llm object has invoke method thanks to ChatOpenAI. We send out prompt to OpenAI.\n",
        "  return AI_Response.content"
      ]
    },
    {
      "cell_type": "code",
      "source": [
        "%%writefile model.py\n",
        "import streamlit as st\n",
        "import modelhelper\n",
        "import time\n",
        "\n",
        "# adjust title\n",
        "st.set_page_config(page_title=\"LangChain: Model Karşılaştırma\", layout=\"wide\")\n",
        "st.title(\"LangChain: Model Karşılaştırma\")\n",
        "st.divider()\n",
        "\n",
        "#adjust left side and right side of web page\n",
        "col_prompt, col_settings = st.columns([2,3]) # (2,3) means size of columns\n",
        "\n",
        "with col_prompt:\n",
        "  prompt=st.text_input(label=\"Sorunuzu giriniz:\")\n",
        "  st.divider()\n",
        "  submit_btn=st.button(\"Sor\")\n",
        "\n",
        "with col_settings:\n",
        "  temperature=st.slider(label=\"Temperature\",min_value=0.0, max_value=1.0,value=0.7) # start point is 0, end point is 1. It increases 0.7.\n",
        "  max_tokens = st.slider(label=\"Maximum Tokens\",min_value=100,max_value=500,value=200,step=100) # start point is 100, end point is 500. It increases 100. default value 200.\n",
        "\n",
        "st.divider()\n",
        "\n",
        "col_gpt, col_gemini, col_claude, col_command = st.columns(4) # we just enter one number (4), it means colunmn number.\n",
        "\n",
        "with col_gpt:\n",
        "  if submit_btn:\n",
        "    with st.spinner(\"GPT Yanıtlıyor....\"): # we append to show \"time is up\"\n",
        "        st.success(\"GPT-4 Turbo\")\n",
        "        st.write(modelhelper.ask_gpt(prompt=prompt,temperature=temperature,max_tokens=max_tokens))\n"
      ],
      "metadata": {
        "id": "Zl33_YksZIjt",
        "outputId": "4f6bcd9f-3215-456b-87c3-130cf8147a8b",
        "colab": {
          "base_uri": "https://localhost:8080/"
        }
      },
      "execution_count": 20,
      "outputs": [
        {
          "output_type": "stream",
          "name": "stdout",
          "text": [
            "Overwriting model.py\n"
          ]
        }
      ]
    },
    {
      "cell_type": "code",
      "source": [
        "!npm install localtunnel\n",
        "!streamlit run /content/model.py &>/content/logs.txt &\n",
        "!npx localtunnel --port 8501"
      ],
      "metadata": {
        "id": "zvYsTyG9gR0h",
        "outputId": "840d34c0-9564-41ba-e504-7d612e5ea310",
        "colab": {
          "base_uri": "https://localhost:8080/"
        }
      },
      "execution_count": null,
      "outputs": [
        {
          "output_type": "stream",
          "name": "stdout",
          "text": [
            "\u001b[K\u001b[?25h\u001b[37;40mnpm\u001b[0m \u001b[0m\u001b[30;43mWARN\u001b[0m \u001b[0m\u001b[35msaveError\u001b[0m ENOENT: no such file or directory, open '/content/package.json'\n",
            "\u001b[0m\u001b[37;40mnpm\u001b[0m \u001b[0m\u001b[30;43mWARN\u001b[0m \u001b[0m\u001b[35menoent\u001b[0m ENOENT: no such file or directory, open '/content/package.json'\n",
            "\u001b[0m\u001b[37;40mnpm\u001b[0m \u001b[0m\u001b[30;43mWARN\u001b[0m\u001b[35m\u001b[0m content No description\n",
            "\u001b[0m\u001b[37;40mnpm\u001b[0m \u001b[0m\u001b[30;43mWARN\u001b[0m\u001b[35m\u001b[0m content No repository field.\n",
            "\u001b[0m\u001b[37;40mnpm\u001b[0m \u001b[0m\u001b[30;43mWARN\u001b[0m\u001b[35m\u001b[0m content No README data\n",
            "\u001b[0m\u001b[37;40mnpm\u001b[0m \u001b[0m\u001b[30;43mWARN\u001b[0m\u001b[35m\u001b[0m content No license field.\n",
            "\u001b[0m\n",
            "\u001b[K\u001b[?25h+ localtunnel@2.0.2\n",
            "updated 1 package and audited 36 packages in 0.541s\n",
            "\n",
            "3 packages are looking for funding\n",
            "  run `npm fund` for details\n",
            "\n",
            "found 2 \u001b[93mmoderate\u001b[0m severity vulnerabilities\n",
            "  run `npm audit fix` to fix them, or `npm audit` for details\n",
            "\u001b[K\u001b[?25hnpx: installed 22 in 2.502s\n",
            "your url is: https://moody-sloths-thank.loca.lt\n"
          ]
        }
      ]
    }
  ]
}