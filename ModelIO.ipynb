{
  "nbformat": 4,
  "nbformat_minor": 0,
  "metadata": {
    "colab": {
      "provenance": [],
      "authorship_tag": "ABX9TyM1sjNmaY70CXikKj8IiERO",
      "include_colab_link": true
    },
    "kernelspec": {
      "name": "python3",
      "display_name": "Python 3"
    },
    "language_info": {
      "name": "python"
    }
  },
  "cells": [
    {
      "cell_type": "markdown",
      "metadata": {
        "id": "view-in-github",
        "colab_type": "text"
      },
      "source": [
        "<a href=\"https://colab.research.google.com/github/kmk4444/Langchain/blob/main/ModelIO.ipynb\" target=\"_parent\"><img src=\"https://colab.research.google.com/assets/colab-badge.svg\" alt=\"Open In Colab\"/></a>"
      ]
    },
    {
      "cell_type": "markdown",
      "source": [
        "- Langchain consists of Model I\\O, Retrieval, Agents, Chains and Extra.\n",
        "There are different packages which are LangChain, LangChain Core, LangChain Community and LangChain Experimental.\n",
        "- We will use langchain package which has LangChain Core and LangChain Experimental.\n",
        "\n",
        "Learning LangChain has five steps.\n",
        "1. Accessing Models(OpenAI, Google AI etc.)\n",
        "2. Porcessing chains(create_stuff_documents_chain and create_openai_fn_runnable)\n",
        "3. Loaders & Partitioners (WebBaseLoader, CharacterSplitter, PyPDFLoader, RecursiveCharacterSplitter, UnstructuredExcelLoader and SemanticSplitter)\n",
        "4. RAG (RAG with URL and RAG with PDF)\n",
        "5. Different Embedding Models(cohere and HuggingFace)"
      ],
      "metadata": {
        "id": "cu91SnhQZJpM"
      }
    },
    {
      "cell_type": "markdown",
      "source": [
        "**requirements.txt**\n",
        "-  langchain-openai or other packages depends on openai and other chatbot sdk, that's why we install these packages.(openai,anthropic and cohere)"
      ],
      "metadata": {
        "id": "7_6qBaavdsar"
      }
    },
    {
      "cell_type": "code",
      "source": [
        "!touch requirements.txt\n",
        "!echo langchain >> requirements.txt\n",
        "!echo langchain-openai >> requirements.txt\n",
        "!echo langchain-google-genai >> requirements.txt\n",
        "!echo langchain_experimental >> requirements.txt\n",
        "!echo openai >> requirements.txt\n",
        "!echo anthropic >> requirements.txt\n",
        "!echo cohere >> requirements.txt\n",
        "!echo streamlit >> requirements.txt\n",
        "!echo python-dotenv >> requirements.txt\n",
        "!echo beautifulsoup4 >> requirements.txt\n",
        "!echo faiss-cpu >> requirements.txt\n",
        "!echo pypdf >> requirements.txt\n",
        "!echo unstructured >> requirements.txt\n",
        "!echo networkx >> requirements.txt\n",
        "!echo openpyxl >> requirements.txt\n",
        "!echo rapidocr-onnxruntime >> requirements.txt"
      ],
      "metadata": {
        "id": "ORcjp0k1c0_d"
      },
      "execution_count": null,
      "outputs": []
    },
    {
      "cell_type": "markdown",
      "source": [
        "**Terminal/bash command**"
      ],
      "metadata": {
        "id": "5z4m-7PodpPK"
      }
    },
    {
      "cell_type": "code",
      "source": [
        "pip install -r requirements.txt"
      ],
      "metadata": {
        "id": "EdpBFQlpdmjz"
      },
      "execution_count": null,
      "outputs": []
    },
    {
      "cell_type": "markdown",
      "source": [
        "**1. Accessing Models**\n",
        "- We apply seperation of concerns so there are different python files for each problembs."
      ],
      "metadata": {
        "id": "Vf_CdSXKaWSx"
      }
    },
    {
      "cell_type": "code",
      "execution_count": null,
      "metadata": {
        "id": "mAa0ueFqXLxi"
      },
      "outputs": [],
      "source": [
        "#%%writefile modelhelper.py\n",
        "#We reach language models.\n",
        "import os\n",
        "import dotenv import load_dotenv\n",
        "\n",
        "load_dotenv()\n",
        "\n",
        "#my_key_openai = os.getenv(\"openai_apikey\")\n",
        "my_key_openai=\"----\" # we reach openai api key\n",
        "\n",
        "from langchain_openai import ChatOpenAI # we import ChatOpenAI package from langchain_openai\n",
        "\n",
        "def ask_gpt(prompt,temperature,max_tokens):\n",
        "  # we create a llm object.\n",
        "  llm = ChatOpenAI(\n",
        "      api_key=my_key_openai,\n",
        "      temperature=temperature,\n",
        "      max_tokens=max_tokens,\n",
        "      model=\"gpt-4-1106-preview\"\n",
        "  )\n",
        "\n",
        "  AI_Response\n"
      ]
    },
    {
      "cell_type": "code",
      "source": [],
      "metadata": {
        "id": "Zl33_YksZIjt"
      },
      "execution_count": null,
      "outputs": []
    }
  ]
}