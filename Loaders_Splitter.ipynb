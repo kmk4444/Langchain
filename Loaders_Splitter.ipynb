{
  "nbformat": 4,
  "nbformat_minor": 0,
  "metadata": {
    "colab": {
      "provenance": [],
      "authorship_tag": "ABX9TyPu//0q+4yPFspu0oxWWPvz",
      "include_colab_link": true
    },
    "kernelspec": {
      "name": "python3",
      "display_name": "Python 3"
    },
    "language_info": {
      "name": "python"
    }
  },
  "cells": [
    {
      "cell_type": "markdown",
      "metadata": {
        "id": "view-in-github",
        "colab_type": "text"
      },
      "source": [
        "<a href=\"https://colab.research.google.com/github/kmk4444/Langchain/blob/main/Loaders_Splitter.ipynb\" target=\"_parent\"><img src=\"https://colab.research.google.com/assets/colab-badge.svg\" alt=\"Open In Colab\"/></a>"
      ]
    },
    {
      "cell_type": "markdown",
      "source": [
        "- Langchain provides more than one loaders but we focus on three loaders.\n",
        "1. WebBaseLoader - Load from a web page\n",
        "2. PyPDFLoader - Load data from a pdf\n",
        "3. UnstructuredExcelLoader - Load data from a excel\n",
        "\n",
        "Document loader means that several structure data converts into documents. (Document.page_content and Document.metada)"
      ],
      "metadata": {
        "id": "qI9MWHENTR0i"
      }
    },
    {
      "cell_type": "markdown",
      "source": [
        "**Requirements.txt**"
      ],
      "metadata": {
        "id": "qwhMJ04aZd9Q"
      }
    },
    {
      "cell_type": "code",
      "source": [
        "!touch requirements.txt\n",
        "!echo langchain >> requirements.txt\n",
        "!echo langchain-openai >> requirements.txt\n",
        "!echo langchain-google-genai >> requirements.txt\n",
        "!echo langchain_experimental >> requirements.txt\n",
        "!echo openai >> requirements.txt\n",
        "!echo anthropic >> requirements.txt\n",
        "!echo cohere >> requirements.txt\n",
        "!echo streamlit >> requirements.txt\n",
        "!echo python-dotenv >> requirements.txt\n",
        "!echo beautifulsoup4 >> requirements.txt\n",
        "!echo faiss-cpu >> requirements.txt\n",
        "!echo pypdf >> requirements.txt\n",
        "!echo unstructured >> requirements.txt\n",
        "!echo networkx >> requirements.txt\n",
        "!echo openpyxl >> requirements.txt\n",
        "!echo rapidocr-onnxruntime >> requirements.txt"
      ],
      "metadata": {
        "id": "o6GFm_r5Zev4"
      },
      "execution_count": 1,
      "outputs": []
    },
    {
      "cell_type": "markdown",
      "source": [
        "**terminal / bash komutu**"
      ],
      "metadata": {
        "id": "o545Gy8eZg_p"
      }
    },
    {
      "cell_type": "code",
      "source": [
        "pip install -r requirements.txt"
      ],
      "metadata": {
        "id": "_YFoCjcFZirj"
      },
      "execution_count": null,
      "outputs": []
    },
    {
      "cell_type": "code",
      "execution_count": 7,
      "metadata": {
        "id": "edROCO90STfY",
        "outputId": "441a6eb5-5d8c-4bf3-d017-94c2f4cbe0aa",
        "colab": {
          "base_uri": "https://localhost:8080/"
        }
      },
      "outputs": [
        {
          "output_type": "stream",
          "name": "stdout",
          "text": [
            "Dosya işlemi tamamlandı.\n",
            "{'source': 'https://kpmg.com/tr/tr/home/gorusler/2023/12/uretken-yapay-zeka-uygulamalarinin-kurumsallasma-yaklasimi.html', 'title': 'Üretken Yapay Zeka Uygulamalarının Kurumsallaşma Yaklaş - KPMG Türkiye', 'description': 'Mikro-Dil-Modeli Mimarisi', 'language': 'tr-TR'}\n"
          ]
        }
      ],
      "source": [
        "# WebBaseLoader\n",
        "from langchain_community.document_loaders import WebBaseLoader\n",
        "\n",
        "target_url=\"https://kpmg.com/tr/tr/home/gorusler/2023/12/uretken-yapay-zeka-uygulamalarinin-kurumsallasma-yaklasimi.html\"\n",
        "\n",
        "loader = WebBaseLoader(target_url) # we create a loader object and we assign to this object.\n",
        "raw_documents = loader.load() # we load document from url. (type is document)\n",
        "\n",
        "\n",
        "with open(\"URL_Icerik.txt\",\"w\") as file: # we create a file to save raw_documents for string format.\n",
        "  file.write(raw_documents[0].page_content) #page_content is information we want.\n",
        "\n",
        "print(\"Dosya işlemi tamamlandı.\")\n",
        "\n",
        "print(raw_documents[0].metadata) # we can design metadata in RAG.\n"
      ]
    }
  ]
}